{
 "cells": [
  {
   "cell_type": "code",
   "execution_count": 2,
   "id": "dc87c4f5",
   "metadata": {},
   "outputs": [],
   "source": [
    "import lux\n",
    "import pandas as pd"
   ]
  },
  {
   "cell_type": "code",
   "execution_count": 8,
   "id": "894e47b6",
   "metadata": {},
   "outputs": [
    {
     "name": "stdout",
     "output_type": "stream",
     "text": [
      "Enter nameashish\n",
      "ashish\n"
     ]
    }
   ],
   "source": [
    "a= input(\"Enter name\")\n",
    "print(a)"
   ]
  },
  {
   "cell_type": "code",
   "execution_count": 9,
   "id": "97ebc2f8",
   "metadata": {},
   "outputs": [],
   "source": [
    "from pywebio.input import *\n",
    "from pywebio.output import *"
   ]
  },
  {
   "cell_type": "code",
   "execution_count": 10,
   "id": "dcdc457d",
   "metadata": {},
   "outputs": [],
   "source": [
    "name=input(\"Enter the name\",type=\"text\")"
   ]
  },
  {
   "cell_type": "code",
   "execution_count": 12,
   "id": "d450af3c",
   "metadata": {},
   "outputs": [],
   "source": [
    "from pywebio.input import *\n",
    "from pywebio.output import *\n",
    "\n",
    "def bmicalculator():\n",
    "    height=input(\"Please enter the height in cm\",type=FLOAT)\n",
    "    weight=input(\"Please enter the weight in Kg\",type=FLOAT)\n",
    "    \n",
    "    bmi=weight/(height/100)**2\n",
    "    \n",
    "    bmi_output=[(16, 'Severely underweight'), (18.5, 'Underweight'),\n",
    "                  (25, 'Normal'), (30, 'Overweight'),\n",
    "                  (35, 'Moderately obese'), (float('inf'), 'Severely obese')]\n",
    "    \n",
    "    for tuple1,tuple2 in bmi_output:\n",
    "        if bmi<=tuple1:\n",
    "            put_text('Your BMI is :%.1f and the person is :%s'%(bmi,tuple2))\n",
    "            break\n",
    "        \n",
    "    \n",
    "if __name__=='__main__':\n",
    "    bmicalculator()"
   ]
  }
 ],
 "metadata": {
  "kernelspec": {
   "display_name": "Python 3 (ipykernel)",
   "language": "python",
   "name": "python3"
  },
  "language_info": {
   "codemirror_mode": {
    "name": "ipython",
    "version": 3
   },
   "file_extension": ".py",
   "mimetype": "text/x-python",
   "name": "python",
   "nbconvert_exporter": "python",
   "pygments_lexer": "ipython3",
   "version": "3.11.5"
  }
 },
 "nbformat": 4,
 "nbformat_minor": 5
}
